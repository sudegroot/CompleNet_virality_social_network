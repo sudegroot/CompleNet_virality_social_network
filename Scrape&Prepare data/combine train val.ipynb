{
 "cells": [
  {
   "cell_type": "code",
   "execution_count": null,
   "metadata": {},
   "outputs": [],
   "source": [
    "import pandas as pd\n",
    "import seaborn as sns\n",
    "import matplotlib.pyplot as plt\n",
    "import numpy as np\n",
    "import math\n",
    "import numbers\n",
    "# !pip install gender-guesser\n",
    "import gender_guesser.detector as gender\n",
    "from scipy import stats\n",
    "from dateutil import parser\n",
    "from scipy.stats import ks_2samp \n",
    "from matplotlib.patches import Rectangle\n",
    "\n",
    "def return_first_name(text):\n",
    "    clean_list = [item for item in text if (item.isalpha() or item == \" \")]\n",
    "    word_list = ''.join(clean_list).split()\n",
    "    \n",
    "    for item in word_list:\n",
    "        if len(item) >= 2:\n",
    "            first_name = item\n",
    "            return first_name\n",
    "    return \"no first name found\"\n",
    "\n",
    "def get_sex(before_data, after_data):\n",
    "    d = gender.Detector(case_sensitive = False)\n",
    "    before_data['sex'] = before_data.apply(lambda row: d.get_gender(return_first_name(str(row['name']))), axis = 1)\n",
    "    after_data['sex'] = after_data.apply(lambda row: d.get_gender(return_first_name(str(row['name']))), axis = 1)\n",
    "    male_items = ['male', 'mostly_male']\n",
    "    female_items = ['female', 'mostly_female']\n",
    "    before_data['sex_generalized'] = before_data.apply(lambda row: 'male' if (row.sex in male_items) else ('female' if (row.sex in female_items) else 'unknown'), axis = 1)\n",
    "    after_data['sex_generalized'] = after_data.apply(lambda row: 'male' if (row.sex in male_items) else ('female' if (row.sex in female_items) else 'unknown'), axis = 1)\n",
    "    \n",
    "    return before_data, after_data"
   ]
  },
  {
   "cell_type": "code",
   "execution_count": null,
   "metadata": {},
   "outputs": [],
   "source": [
    "# load data\n",
    "before_data_t = pd.read_csv(\"before_train.csv\", sep = \"|\").drop(columns = ['Unnamed: 0'])\n",
    "after_data_t = pd.read_csv(\"after_train.csv\", sep = \"|\").drop(columns = ['Unnamed: 0'])\n",
    "\n",
    "before_data_v = pd.read_csv(\"before_val.csv\", sep = \"|\").drop(columns = ['Unnamed: 0'])\n",
    "after_data_v = pd.read_csv(\"after_val.csv\", sep = \"|\").drop(columns = ['Unnamed: 0'])"
   ]
  },
  {
   "cell_type": "code",
   "execution_count": null,
   "metadata": {},
   "outputs": [],
   "source": [
    "# combine data \n",
    "before_data = pd.concat([before_data_t, before_data_v])\n",
    "after_data = pd.concat([after_data_t, after_data_v])\n",
    "print(before_data.shape, after_data.shape)"
   ]
  },
  {
   "cell_type": "code",
   "execution_count": null,
   "metadata": {},
   "outputs": [],
   "source": [
    "# get sex\n",
    "before_data, after_data = get_sex(before_data, after_data)\n",
    "print(before_data.shape, after_data.shape)"
   ]
  },
  {
   "cell_type": "code",
   "execution_count": null,
   "metadata": {},
   "outputs": [],
   "source": [
    "before_data.to_csv(\"before_train_val.csv\", sep = \"|\")\n",
    "after_data.to_csv(\"after_train_val.csv\", sep = \"|\")"
   ]
  }
 ],
 "metadata": {
  "kernelspec": {
   "display_name": "Python 3",
   "language": "python",
   "name": "python3"
  },
  "language_info": {
   "codemirror_mode": {
    "name": "ipython",
    "version": 3
   },
   "file_extension": ".py",
   "mimetype": "text/x-python",
   "name": "python",
   "nbconvert_exporter": "python",
   "pygments_lexer": "ipython3",
   "version": "3.7.4"
  }
 },
 "nbformat": 4,
 "nbformat_minor": 2
}
